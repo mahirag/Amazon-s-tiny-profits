{
  "nbformat": 4,
  "nbformat_minor": 0,
  "metadata": {
    "colab": {
      "name": "Data Visualization Exercise.ipynb",
      "provenance": [],
      "collapsed_sections": [],
      "authorship_tag": "ABX9TyMsQGmTAHTvUon7wWEy9XaD",
      "include_colab_link": true
    },
    "kernelspec": {
      "name": "python3",
      "display_name": "Python 3"
    },
    "language_info": {
      "name": "python"
    }
  },
  "cells": [
    {
      "cell_type": "markdown",
      "metadata": {
        "id": "view-in-github",
        "colab_type": "text"
      },
      "source": [
        "<a href=\"https://colab.research.google.com/github/mahirag/Amazon-s-tiny-profits/blob/main/Data_Visualization_Exercise.ipynb\" target=\"_parent\"><img src=\"https://colab.research.google.com/assets/colab-badge.svg\" alt=\"Open In Colab\"/></a>"
      ]
    },
    {
      "cell_type": "code",
      "metadata": {
        "colab": {
          "base_uri": "https://localhost:8080/"
        },
        "id": "ad9a6J16bWIe",
        "outputId": "26801a46-e5bc-4191-b63e-9c627ba5ae8c"
      },
      "source": [
        "from google.colab import drive\n",
        "drive.mount('/content/drive')"
      ],
      "execution_count": 110,
      "outputs": [
        {
          "output_type": "stream",
          "text": [
            "Drive already mounted at /content/drive; to attempt to forcibly remount, call drive.mount(\"/content/drive\", force_remount=True).\n"
          ],
          "name": "stdout"
        }
      ]
    },
    {
      "cell_type": "code",
      "metadata": {
        "id": "FNn9z_onboRa"
      },
      "source": [
        "import pandas as pd\n",
        "import numpy as np\n",
        "import matplotlib.pyplot as plt"
      ],
      "execution_count": 111,
      "outputs": []
    },
    {
      "cell_type": "code",
      "metadata": {
        "colab": {
          "base_uri": "https://localhost:8080/",
          "height": 419
        },
        "id": "iA-4McFYbrgy",
        "outputId": "dd9a9317-733a-48d8-b27f-d36473f0e004"
      },
      "source": [
        "filename = '/content/drive/My Drive/MM25.xlsx'\n",
        "df = pd.read_excel(filename)\n",
        "df\n"
      ],
      "execution_count": 112,
      "outputs": [
        {
          "output_type": "execute_result",
          "data": {
            "text/html": [
              "<div>\n",
              "<style scoped>\n",
              "    .dataframe tbody tr th:only-of-type {\n",
              "        vertical-align: middle;\n",
              "    }\n",
              "\n",
              "    .dataframe tbody tr th {\n",
              "        vertical-align: top;\n",
              "    }\n",
              "\n",
              "    .dataframe thead th {\n",
              "        text-align: right;\n",
              "    }\n",
              "</style>\n",
              "<table border=\"1\" class=\"dataframe\">\n",
              "  <thead>\n",
              "    <tr style=\"text-align: right;\">\n",
              "      <th></th>\n",
              "      <th>Quarter</th>\n",
              "      <th>Revenue (US $M)</th>\n",
              "      <th>Net Income (US $M)</th>\n",
              "    </tr>\n",
              "  </thead>\n",
              "  <tbody>\n",
              "    <tr>\n",
              "      <th>0</th>\n",
              "      <td>2020-03-31</td>\n",
              "      <td>$75,452</td>\n",
              "      <td>$2,535</td>\n",
              "    </tr>\n",
              "    <tr>\n",
              "      <th>1</th>\n",
              "      <td>2019-12-31</td>\n",
              "      <td>$87,437</td>\n",
              "      <td>$3,268</td>\n",
              "    </tr>\n",
              "    <tr>\n",
              "      <th>2</th>\n",
              "      <td>2019-09-30</td>\n",
              "      <td>$69,981</td>\n",
              "      <td>$2,134</td>\n",
              "    </tr>\n",
              "    <tr>\n",
              "      <th>3</th>\n",
              "      <td>2019-06-30</td>\n",
              "      <td>$63,404</td>\n",
              "      <td>$2,625</td>\n",
              "    </tr>\n",
              "    <tr>\n",
              "      <th>4</th>\n",
              "      <td>2019-03-31</td>\n",
              "      <td>$59,700</td>\n",
              "      <td>$3,561</td>\n",
              "    </tr>\n",
              "    <tr>\n",
              "      <th>...</th>\n",
              "      <td>...</td>\n",
              "      <td>...</td>\n",
              "      <td>...</td>\n",
              "    </tr>\n",
              "    <tr>\n",
              "      <th>56</th>\n",
              "      <td>2006-03-31</td>\n",
              "      <td>$2,279</td>\n",
              "      <td>$51</td>\n",
              "    </tr>\n",
              "    <tr>\n",
              "      <th>57</th>\n",
              "      <td>2005-12-31</td>\n",
              "      <td>$2,977</td>\n",
              "      <td>$199</td>\n",
              "    </tr>\n",
              "    <tr>\n",
              "      <th>58</th>\n",
              "      <td>2005-09-30</td>\n",
              "      <td>$1,858</td>\n",
              "      <td>$30</td>\n",
              "    </tr>\n",
              "    <tr>\n",
              "      <th>59</th>\n",
              "      <td>2005-06-30</td>\n",
              "      <td>$1,753</td>\n",
              "      <td>$52</td>\n",
              "    </tr>\n",
              "    <tr>\n",
              "      <th>60</th>\n",
              "      <td>2005-03-31</td>\n",
              "      <td>$1,902</td>\n",
              "      <td>$78</td>\n",
              "    </tr>\n",
              "  </tbody>\n",
              "</table>\n",
              "<p>61 rows × 3 columns</p>\n",
              "</div>"
            ],
            "text/plain": [
              "      Quarter Revenue (US $M) Net Income (US $M)\n",
              "0  2020-03-31         $75,452             $2,535\n",
              "1  2019-12-31         $87,437             $3,268\n",
              "2  2019-09-30         $69,981             $2,134\n",
              "3  2019-06-30         $63,404             $2,625\n",
              "4  2019-03-31         $59,700             $3,561\n",
              "..        ...             ...                ...\n",
              "56 2006-03-31          $2,279                $51\n",
              "57 2005-12-31          $2,977               $199\n",
              "58 2005-09-30          $1,858                $30\n",
              "59 2005-06-30          $1,753                $52\n",
              "60 2005-03-31          $1,902                $78\n",
              "\n",
              "[61 rows x 3 columns]"
            ]
          },
          "metadata": {
            "tags": []
          },
          "execution_count": 112
        }
      ]
    },
    {
      "cell_type": "code",
      "metadata": {
        "colab": {
          "base_uri": "https://localhost:8080/"
        },
        "id": "bISYXADYdb9v",
        "outputId": "1cd7e908-916b-4fde-bd3e-cf697b87f7d0"
      },
      "source": [
        "df.info()"
      ],
      "execution_count": 113,
      "outputs": [
        {
          "output_type": "stream",
          "text": [
            "<class 'pandas.core.frame.DataFrame'>\n",
            "RangeIndex: 61 entries, 0 to 60\n",
            "Data columns (total 3 columns):\n",
            " #   Column              Non-Null Count  Dtype         \n",
            "---  ------              --------------  -----         \n",
            " 0   Quarter             61 non-null     datetime64[ns]\n",
            " 1   Revenue (US $M)     61 non-null     object        \n",
            " 2   Net Income (US $M)  61 non-null     object        \n",
            "dtypes: datetime64[ns](1), object(2)\n",
            "memory usage: 1.6+ KB\n"
          ],
          "name": "stdout"
        }
      ]
    },
    {
      "cell_type": "code",
      "metadata": {
        "colab": {
          "base_uri": "https://localhost:8080/"
        },
        "id": "AerU10-ndtJp",
        "outputId": "7e67a57d-2588-42c9-95ca-56c6607fd7ca"
      },
      "source": [
        "df.shape"
      ],
      "execution_count": 114,
      "outputs": [
        {
          "output_type": "execute_result",
          "data": {
            "text/plain": [
              "(61, 3)"
            ]
          },
          "metadata": {
            "tags": []
          },
          "execution_count": 114
        }
      ]
    },
    {
      "cell_type": "code",
      "metadata": {
        "colab": {
          "base_uri": "https://localhost:8080/"
        },
        "id": "OdowDW4JeNFN",
        "outputId": "0bf29eba-c51b-4497-f77c-f7fa5abfd018"
      },
      "source": [
        "# missing values\n",
        "df.isnull().sum() "
      ],
      "execution_count": 115,
      "outputs": [
        {
          "output_type": "execute_result",
          "data": {
            "text/plain": [
              "Quarter               0\n",
              "Revenue (US $M)       0\n",
              "Net Income (US $M)    0\n",
              "dtype: int64"
            ]
          },
          "metadata": {
            "tags": []
          },
          "execution_count": 115
        }
      ]
    },
    {
      "cell_type": "code",
      "metadata": {
        "colab": {
          "base_uri": "https://localhost:8080/"
        },
        "id": "COIhKmq4noqv",
        "outputId": "d0d420df-fd05-40aa-ea3e-9592c7846023"
      },
      "source": [
        "print(df)"
      ],
      "execution_count": 125,
      "outputs": [
        {
          "output_type": "stream",
          "text": [
            "      Quarter Revenue US M Net Income US M\n",
            "0  2020-03-31      $75,452          $2,535\n",
            "1  2019-12-31      $87,437          $3,268\n",
            "2  2019-09-30      $69,981          $2,134\n",
            "3  2019-06-30      $63,404          $2,625\n",
            "4  2019-03-31      $59,700          $3,561\n",
            "..        ...          ...             ...\n",
            "56 2006-03-31       $2,279             $51\n",
            "57 2005-12-31       $2,977            $199\n",
            "58 2005-09-30       $1,858             $30\n",
            "59 2005-06-30       $1,753             $52\n",
            "60 2005-03-31       $1,902             $78\n",
            "\n",
            "[61 rows x 3 columns]\n"
          ],
          "name": "stdout"
        }
      ]
    },
    {
      "cell_type": "code",
      "metadata": {
        "id": "sUhBWdfxn7FZ"
      },
      "source": [
        "# remove special character\n",
        "df.columns = df.columns.str.replace('[$,(,)]', '')"
      ],
      "execution_count": 126,
      "outputs": []
    },
    {
      "cell_type": "code",
      "metadata": {
        "colab": {
          "base_uri": "https://localhost:8080/"
        },
        "id": "ZL6yPaJuoKLd",
        "outputId": "c2350f6c-f184-4b30-c3a2-de98009936ca"
      },
      "source": [
        "print(\"\\n\\n\", df)"
      ],
      "execution_count": 127,
      "outputs": [
        {
          "output_type": "stream",
          "text": [
            "\n",
            "\n",
            "       Quarter Revenue US M Net Income US M\n",
            "0  2020-03-31      $75,452          $2,535\n",
            "1  2019-12-31      $87,437          $3,268\n",
            "2  2019-09-30      $69,981          $2,134\n",
            "3  2019-06-30      $63,404          $2,625\n",
            "4  2019-03-31      $59,700          $3,561\n",
            "..        ...          ...             ...\n",
            "56 2006-03-31       $2,279             $51\n",
            "57 2005-12-31       $2,977            $199\n",
            "58 2005-09-30       $1,858             $30\n",
            "59 2005-06-30       $1,753             $52\n",
            "60 2005-03-31       $1,902             $78\n",
            "\n",
            "[61 rows x 3 columns]\n"
          ],
          "name": "stdout"
        }
      ]
    },
    {
      "cell_type": "code",
      "metadata": {
        "colab": {
          "base_uri": "https://localhost:8080/",
          "height": 419
        },
        "id": "bIHlVDmUsmud",
        "outputId": "82cbe802-a1ee-421f-84e3-ac8901ee37be"
      },
      "source": [
        "df['Revenue US M'] = df['Revenue US M'].replace({r'\\$':''}, regex = True)\n",
        "df"
      ],
      "execution_count": 130,
      "outputs": [
        {
          "output_type": "execute_result",
          "data": {
            "text/html": [
              "<div>\n",
              "<style scoped>\n",
              "    .dataframe tbody tr th:only-of-type {\n",
              "        vertical-align: middle;\n",
              "    }\n",
              "\n",
              "    .dataframe tbody tr th {\n",
              "        vertical-align: top;\n",
              "    }\n",
              "\n",
              "    .dataframe thead th {\n",
              "        text-align: right;\n",
              "    }\n",
              "</style>\n",
              "<table border=\"1\" class=\"dataframe\">\n",
              "  <thead>\n",
              "    <tr style=\"text-align: right;\">\n",
              "      <th></th>\n",
              "      <th>Quarter</th>\n",
              "      <th>Revenue US M</th>\n",
              "      <th>Net Income US M</th>\n",
              "    </tr>\n",
              "  </thead>\n",
              "  <tbody>\n",
              "    <tr>\n",
              "      <th>0</th>\n",
              "      <td>2020-03-31</td>\n",
              "      <td>75,452</td>\n",
              "      <td>$2,535</td>\n",
              "    </tr>\n",
              "    <tr>\n",
              "      <th>1</th>\n",
              "      <td>2019-12-31</td>\n",
              "      <td>87,437</td>\n",
              "      <td>$3,268</td>\n",
              "    </tr>\n",
              "    <tr>\n",
              "      <th>2</th>\n",
              "      <td>2019-09-30</td>\n",
              "      <td>69,981</td>\n",
              "      <td>$2,134</td>\n",
              "    </tr>\n",
              "    <tr>\n",
              "      <th>3</th>\n",
              "      <td>2019-06-30</td>\n",
              "      <td>63,404</td>\n",
              "      <td>$2,625</td>\n",
              "    </tr>\n",
              "    <tr>\n",
              "      <th>4</th>\n",
              "      <td>2019-03-31</td>\n",
              "      <td>59,700</td>\n",
              "      <td>$3,561</td>\n",
              "    </tr>\n",
              "    <tr>\n",
              "      <th>...</th>\n",
              "      <td>...</td>\n",
              "      <td>...</td>\n",
              "      <td>...</td>\n",
              "    </tr>\n",
              "    <tr>\n",
              "      <th>56</th>\n",
              "      <td>2006-03-31</td>\n",
              "      <td>2,279</td>\n",
              "      <td>$51</td>\n",
              "    </tr>\n",
              "    <tr>\n",
              "      <th>57</th>\n",
              "      <td>2005-12-31</td>\n",
              "      <td>2,977</td>\n",
              "      <td>$199</td>\n",
              "    </tr>\n",
              "    <tr>\n",
              "      <th>58</th>\n",
              "      <td>2005-09-30</td>\n",
              "      <td>1,858</td>\n",
              "      <td>$30</td>\n",
              "    </tr>\n",
              "    <tr>\n",
              "      <th>59</th>\n",
              "      <td>2005-06-30</td>\n",
              "      <td>1,753</td>\n",
              "      <td>$52</td>\n",
              "    </tr>\n",
              "    <tr>\n",
              "      <th>60</th>\n",
              "      <td>2005-03-31</td>\n",
              "      <td>1,902</td>\n",
              "      <td>$78</td>\n",
              "    </tr>\n",
              "  </tbody>\n",
              "</table>\n",
              "<p>61 rows × 3 columns</p>\n",
              "</div>"
            ],
            "text/plain": [
              "      Quarter Revenue US M Net Income US M\n",
              "0  2020-03-31       75,452          $2,535\n",
              "1  2019-12-31       87,437          $3,268\n",
              "2  2019-09-30       69,981          $2,134\n",
              "3  2019-06-30       63,404          $2,625\n",
              "4  2019-03-31       59,700          $3,561\n",
              "..        ...          ...             ...\n",
              "56 2006-03-31        2,279             $51\n",
              "57 2005-12-31        2,977            $199\n",
              "58 2005-09-30        1,858             $30\n",
              "59 2005-06-30        1,753             $52\n",
              "60 2005-03-31        1,902             $78\n",
              "\n",
              "[61 rows x 3 columns]"
            ]
          },
          "metadata": {
            "tags": []
          },
          "execution_count": 130
        }
      ]
    },
    {
      "cell_type": "code",
      "metadata": {
        "colab": {
          "base_uri": "https://localhost:8080/",
          "height": 419
        },
        "id": "2X4iogfPs2IH",
        "outputId": "3b06cd3c-ba1f-4fd9-a206-40c33f2d43a7"
      },
      "source": [
        "df['Net Income US M'] = df['Net Income US M'].replace({r'\\$':''}, regex = True)\n",
        "df"
      ],
      "execution_count": 132,
      "outputs": [
        {
          "output_type": "execute_result",
          "data": {
            "text/html": [
              "<div>\n",
              "<style scoped>\n",
              "    .dataframe tbody tr th:only-of-type {\n",
              "        vertical-align: middle;\n",
              "    }\n",
              "\n",
              "    .dataframe tbody tr th {\n",
              "        vertical-align: top;\n",
              "    }\n",
              "\n",
              "    .dataframe thead th {\n",
              "        text-align: right;\n",
              "    }\n",
              "</style>\n",
              "<table border=\"1\" class=\"dataframe\">\n",
              "  <thead>\n",
              "    <tr style=\"text-align: right;\">\n",
              "      <th></th>\n",
              "      <th>Quarter</th>\n",
              "      <th>Revenue US M</th>\n",
              "      <th>Net Income US M</th>\n",
              "    </tr>\n",
              "  </thead>\n",
              "  <tbody>\n",
              "    <tr>\n",
              "      <th>0</th>\n",
              "      <td>2020-03-31</td>\n",
              "      <td>75,452</td>\n",
              "      <td>2,535</td>\n",
              "    </tr>\n",
              "    <tr>\n",
              "      <th>1</th>\n",
              "      <td>2019-12-31</td>\n",
              "      <td>87,437</td>\n",
              "      <td>3,268</td>\n",
              "    </tr>\n",
              "    <tr>\n",
              "      <th>2</th>\n",
              "      <td>2019-09-30</td>\n",
              "      <td>69,981</td>\n",
              "      <td>2,134</td>\n",
              "    </tr>\n",
              "    <tr>\n",
              "      <th>3</th>\n",
              "      <td>2019-06-30</td>\n",
              "      <td>63,404</td>\n",
              "      <td>2,625</td>\n",
              "    </tr>\n",
              "    <tr>\n",
              "      <th>4</th>\n",
              "      <td>2019-03-31</td>\n",
              "      <td>59,700</td>\n",
              "      <td>3,561</td>\n",
              "    </tr>\n",
              "    <tr>\n",
              "      <th>...</th>\n",
              "      <td>...</td>\n",
              "      <td>...</td>\n",
              "      <td>...</td>\n",
              "    </tr>\n",
              "    <tr>\n",
              "      <th>56</th>\n",
              "      <td>2006-03-31</td>\n",
              "      <td>2,279</td>\n",
              "      <td>51</td>\n",
              "    </tr>\n",
              "    <tr>\n",
              "      <th>57</th>\n",
              "      <td>2005-12-31</td>\n",
              "      <td>2,977</td>\n",
              "      <td>199</td>\n",
              "    </tr>\n",
              "    <tr>\n",
              "      <th>58</th>\n",
              "      <td>2005-09-30</td>\n",
              "      <td>1,858</td>\n",
              "      <td>30</td>\n",
              "    </tr>\n",
              "    <tr>\n",
              "      <th>59</th>\n",
              "      <td>2005-06-30</td>\n",
              "      <td>1,753</td>\n",
              "      <td>52</td>\n",
              "    </tr>\n",
              "    <tr>\n",
              "      <th>60</th>\n",
              "      <td>2005-03-31</td>\n",
              "      <td>1,902</td>\n",
              "      <td>78</td>\n",
              "    </tr>\n",
              "  </tbody>\n",
              "</table>\n",
              "<p>61 rows × 3 columns</p>\n",
              "</div>"
            ],
            "text/plain": [
              "      Quarter Revenue US M Net Income US M\n",
              "0  2020-03-31       75,452           2,535\n",
              "1  2019-12-31       87,437           3,268\n",
              "2  2019-09-30       69,981           2,134\n",
              "3  2019-06-30       63,404           2,625\n",
              "4  2019-03-31       59,700           3,561\n",
              "..        ...          ...             ...\n",
              "56 2006-03-31        2,279              51\n",
              "57 2005-12-31        2,977             199\n",
              "58 2005-09-30        1,858              30\n",
              "59 2005-06-30        1,753              52\n",
              "60 2005-03-31        1,902              78\n",
              "\n",
              "[61 rows x 3 columns]"
            ]
          },
          "metadata": {
            "tags": []
          },
          "execution_count": 132
        }
      ]
    },
    {
      "cell_type": "code",
      "metadata": {
        "colab": {
          "base_uri": "https://localhost:8080/",
          "height": 419
        },
        "id": "4mYJH6WitC7j",
        "outputId": "1a6dae89-7a4c-47f1-9f55-0683d4ec2f00"
      },
      "source": [
        "df['Revenue US M'] = df['Revenue US M'].replace({r'\\,':''}, regex = True)\n",
        "df['Net Income US M'] = df['Net Income US M'].replace({r'\\,':''}, regex = True)\n",
        "df"
      ],
      "execution_count": 133,
      "outputs": [
        {
          "output_type": "execute_result",
          "data": {
            "text/html": [
              "<div>\n",
              "<style scoped>\n",
              "    .dataframe tbody tr th:only-of-type {\n",
              "        vertical-align: middle;\n",
              "    }\n",
              "\n",
              "    .dataframe tbody tr th {\n",
              "        vertical-align: top;\n",
              "    }\n",
              "\n",
              "    .dataframe thead th {\n",
              "        text-align: right;\n",
              "    }\n",
              "</style>\n",
              "<table border=\"1\" class=\"dataframe\">\n",
              "  <thead>\n",
              "    <tr style=\"text-align: right;\">\n",
              "      <th></th>\n",
              "      <th>Quarter</th>\n",
              "      <th>Revenue US M</th>\n",
              "      <th>Net Income US M</th>\n",
              "    </tr>\n",
              "  </thead>\n",
              "  <tbody>\n",
              "    <tr>\n",
              "      <th>0</th>\n",
              "      <td>2020-03-31</td>\n",
              "      <td>75452</td>\n",
              "      <td>2535</td>\n",
              "    </tr>\n",
              "    <tr>\n",
              "      <th>1</th>\n",
              "      <td>2019-12-31</td>\n",
              "      <td>87437</td>\n",
              "      <td>3268</td>\n",
              "    </tr>\n",
              "    <tr>\n",
              "      <th>2</th>\n",
              "      <td>2019-09-30</td>\n",
              "      <td>69981</td>\n",
              "      <td>2134</td>\n",
              "    </tr>\n",
              "    <tr>\n",
              "      <th>3</th>\n",
              "      <td>2019-06-30</td>\n",
              "      <td>63404</td>\n",
              "      <td>2625</td>\n",
              "    </tr>\n",
              "    <tr>\n",
              "      <th>4</th>\n",
              "      <td>2019-03-31</td>\n",
              "      <td>59700</td>\n",
              "      <td>3561</td>\n",
              "    </tr>\n",
              "    <tr>\n",
              "      <th>...</th>\n",
              "      <td>...</td>\n",
              "      <td>...</td>\n",
              "      <td>...</td>\n",
              "    </tr>\n",
              "    <tr>\n",
              "      <th>56</th>\n",
              "      <td>2006-03-31</td>\n",
              "      <td>2279</td>\n",
              "      <td>51</td>\n",
              "    </tr>\n",
              "    <tr>\n",
              "      <th>57</th>\n",
              "      <td>2005-12-31</td>\n",
              "      <td>2977</td>\n",
              "      <td>199</td>\n",
              "    </tr>\n",
              "    <tr>\n",
              "      <th>58</th>\n",
              "      <td>2005-09-30</td>\n",
              "      <td>1858</td>\n",
              "      <td>30</td>\n",
              "    </tr>\n",
              "    <tr>\n",
              "      <th>59</th>\n",
              "      <td>2005-06-30</td>\n",
              "      <td>1753</td>\n",
              "      <td>52</td>\n",
              "    </tr>\n",
              "    <tr>\n",
              "      <th>60</th>\n",
              "      <td>2005-03-31</td>\n",
              "      <td>1902</td>\n",
              "      <td>78</td>\n",
              "    </tr>\n",
              "  </tbody>\n",
              "</table>\n",
              "<p>61 rows × 3 columns</p>\n",
              "</div>"
            ],
            "text/plain": [
              "      Quarter Revenue US M Net Income US M\n",
              "0  2020-03-31        75452            2535\n",
              "1  2019-12-31        87437            3268\n",
              "2  2019-09-30        69981            2134\n",
              "3  2019-06-30        63404            2625\n",
              "4  2019-03-31        59700            3561\n",
              "..        ...          ...             ...\n",
              "56 2006-03-31         2279              51\n",
              "57 2005-12-31         2977             199\n",
              "58 2005-09-30         1858              30\n",
              "59 2005-06-30         1753              52\n",
              "60 2005-03-31         1902              78\n",
              "\n",
              "[61 rows x 3 columns]"
            ]
          },
          "metadata": {
            "tags": []
          },
          "execution_count": 133
        }
      ]
    },
    {
      "cell_type": "code",
      "metadata": {
        "colab": {
          "base_uri": "https://localhost:8080/",
          "height": 419
        },
        "id": "RREIPViXtQfI",
        "outputId": "261bcee6-9751-41a2-97c8-f079fabfde3f"
      },
      "source": [
        "df['Revenue US M'] = df['Revenue US M'].astype(float)\n",
        "df"
      ],
      "execution_count": 135,
      "outputs": [
        {
          "output_type": "execute_result",
          "data": {
            "text/html": [
              "<div>\n",
              "<style scoped>\n",
              "    .dataframe tbody tr th:only-of-type {\n",
              "        vertical-align: middle;\n",
              "    }\n",
              "\n",
              "    .dataframe tbody tr th {\n",
              "        vertical-align: top;\n",
              "    }\n",
              "\n",
              "    .dataframe thead th {\n",
              "        text-align: right;\n",
              "    }\n",
              "</style>\n",
              "<table border=\"1\" class=\"dataframe\">\n",
              "  <thead>\n",
              "    <tr style=\"text-align: right;\">\n",
              "      <th></th>\n",
              "      <th>Quarter</th>\n",
              "      <th>Revenue US M</th>\n",
              "      <th>Net Income US M</th>\n",
              "    </tr>\n",
              "  </thead>\n",
              "  <tbody>\n",
              "    <tr>\n",
              "      <th>0</th>\n",
              "      <td>2020-03-31</td>\n",
              "      <td>75452.0</td>\n",
              "      <td>2535</td>\n",
              "    </tr>\n",
              "    <tr>\n",
              "      <th>1</th>\n",
              "      <td>2019-12-31</td>\n",
              "      <td>87437.0</td>\n",
              "      <td>3268</td>\n",
              "    </tr>\n",
              "    <tr>\n",
              "      <th>2</th>\n",
              "      <td>2019-09-30</td>\n",
              "      <td>69981.0</td>\n",
              "      <td>2134</td>\n",
              "    </tr>\n",
              "    <tr>\n",
              "      <th>3</th>\n",
              "      <td>2019-06-30</td>\n",
              "      <td>63404.0</td>\n",
              "      <td>2625</td>\n",
              "    </tr>\n",
              "    <tr>\n",
              "      <th>4</th>\n",
              "      <td>2019-03-31</td>\n",
              "      <td>59700.0</td>\n",
              "      <td>3561</td>\n",
              "    </tr>\n",
              "    <tr>\n",
              "      <th>...</th>\n",
              "      <td>...</td>\n",
              "      <td>...</td>\n",
              "      <td>...</td>\n",
              "    </tr>\n",
              "    <tr>\n",
              "      <th>56</th>\n",
              "      <td>2006-03-31</td>\n",
              "      <td>2279.0</td>\n",
              "      <td>51</td>\n",
              "    </tr>\n",
              "    <tr>\n",
              "      <th>57</th>\n",
              "      <td>2005-12-31</td>\n",
              "      <td>2977.0</td>\n",
              "      <td>199</td>\n",
              "    </tr>\n",
              "    <tr>\n",
              "      <th>58</th>\n",
              "      <td>2005-09-30</td>\n",
              "      <td>1858.0</td>\n",
              "      <td>30</td>\n",
              "    </tr>\n",
              "    <tr>\n",
              "      <th>59</th>\n",
              "      <td>2005-06-30</td>\n",
              "      <td>1753.0</td>\n",
              "      <td>52</td>\n",
              "    </tr>\n",
              "    <tr>\n",
              "      <th>60</th>\n",
              "      <td>2005-03-31</td>\n",
              "      <td>1902.0</td>\n",
              "      <td>78</td>\n",
              "    </tr>\n",
              "  </tbody>\n",
              "</table>\n",
              "<p>61 rows × 3 columns</p>\n",
              "</div>"
            ],
            "text/plain": [
              "      Quarter  Revenue US M Net Income US M\n",
              "0  2020-03-31       75452.0            2535\n",
              "1  2019-12-31       87437.0            3268\n",
              "2  2019-09-30       69981.0            2134\n",
              "3  2019-06-30       63404.0            2625\n",
              "4  2019-03-31       59700.0            3561\n",
              "..        ...           ...             ...\n",
              "56 2006-03-31        2279.0              51\n",
              "57 2005-12-31        2977.0             199\n",
              "58 2005-09-30        1858.0              30\n",
              "59 2005-06-30        1753.0              52\n",
              "60 2005-03-31        1902.0              78\n",
              "\n",
              "[61 rows x 3 columns]"
            ]
          },
          "metadata": {
            "tags": []
          },
          "execution_count": 135
        }
      ]
    },
    {
      "cell_type": "code",
      "metadata": {
        "colab": {
          "base_uri": "https://localhost:8080/",
          "height": 419
        },
        "id": "S67mHkZQtcUl",
        "outputId": "897b5afd-7ff0-4f8e-fc64-d7df109a6ebb"
      },
      "source": [
        "df['Net Income US M'] = df['Net Income US M'].astype(float)\n",
        "df"
      ],
      "execution_count": 136,
      "outputs": [
        {
          "output_type": "execute_result",
          "data": {
            "text/html": [
              "<div>\n",
              "<style scoped>\n",
              "    .dataframe tbody tr th:only-of-type {\n",
              "        vertical-align: middle;\n",
              "    }\n",
              "\n",
              "    .dataframe tbody tr th {\n",
              "        vertical-align: top;\n",
              "    }\n",
              "\n",
              "    .dataframe thead th {\n",
              "        text-align: right;\n",
              "    }\n",
              "</style>\n",
              "<table border=\"1\" class=\"dataframe\">\n",
              "  <thead>\n",
              "    <tr style=\"text-align: right;\">\n",
              "      <th></th>\n",
              "      <th>Quarter</th>\n",
              "      <th>Revenue US M</th>\n",
              "      <th>Net Income US M</th>\n",
              "    </tr>\n",
              "  </thead>\n",
              "  <tbody>\n",
              "    <tr>\n",
              "      <th>0</th>\n",
              "      <td>2020-03-31</td>\n",
              "      <td>75452.0</td>\n",
              "      <td>2535.0</td>\n",
              "    </tr>\n",
              "    <tr>\n",
              "      <th>1</th>\n",
              "      <td>2019-12-31</td>\n",
              "      <td>87437.0</td>\n",
              "      <td>3268.0</td>\n",
              "    </tr>\n",
              "    <tr>\n",
              "      <th>2</th>\n",
              "      <td>2019-09-30</td>\n",
              "      <td>69981.0</td>\n",
              "      <td>2134.0</td>\n",
              "    </tr>\n",
              "    <tr>\n",
              "      <th>3</th>\n",
              "      <td>2019-06-30</td>\n",
              "      <td>63404.0</td>\n",
              "      <td>2625.0</td>\n",
              "    </tr>\n",
              "    <tr>\n",
              "      <th>4</th>\n",
              "      <td>2019-03-31</td>\n",
              "      <td>59700.0</td>\n",
              "      <td>3561.0</td>\n",
              "    </tr>\n",
              "    <tr>\n",
              "      <th>...</th>\n",
              "      <td>...</td>\n",
              "      <td>...</td>\n",
              "      <td>...</td>\n",
              "    </tr>\n",
              "    <tr>\n",
              "      <th>56</th>\n",
              "      <td>2006-03-31</td>\n",
              "      <td>2279.0</td>\n",
              "      <td>51.0</td>\n",
              "    </tr>\n",
              "    <tr>\n",
              "      <th>57</th>\n",
              "      <td>2005-12-31</td>\n",
              "      <td>2977.0</td>\n",
              "      <td>199.0</td>\n",
              "    </tr>\n",
              "    <tr>\n",
              "      <th>58</th>\n",
              "      <td>2005-09-30</td>\n",
              "      <td>1858.0</td>\n",
              "      <td>30.0</td>\n",
              "    </tr>\n",
              "    <tr>\n",
              "      <th>59</th>\n",
              "      <td>2005-06-30</td>\n",
              "      <td>1753.0</td>\n",
              "      <td>52.0</td>\n",
              "    </tr>\n",
              "    <tr>\n",
              "      <th>60</th>\n",
              "      <td>2005-03-31</td>\n",
              "      <td>1902.0</td>\n",
              "      <td>78.0</td>\n",
              "    </tr>\n",
              "  </tbody>\n",
              "</table>\n",
              "<p>61 rows × 3 columns</p>\n",
              "</div>"
            ],
            "text/plain": [
              "      Quarter  Revenue US M  Net Income US M\n",
              "0  2020-03-31       75452.0           2535.0\n",
              "1  2019-12-31       87437.0           3268.0\n",
              "2  2019-09-30       69981.0           2134.0\n",
              "3  2019-06-30       63404.0           2625.0\n",
              "4  2019-03-31       59700.0           3561.0\n",
              "..        ...           ...              ...\n",
              "56 2006-03-31        2279.0             51.0\n",
              "57 2005-12-31        2977.0            199.0\n",
              "58 2005-09-30        1858.0             30.0\n",
              "59 2005-06-30        1753.0             52.0\n",
              "60 2005-03-31        1902.0             78.0\n",
              "\n",
              "[61 rows x 3 columns]"
            ]
          },
          "metadata": {
            "tags": []
          },
          "execution_count": 136
        }
      ]
    },
    {
      "cell_type": "code",
      "metadata": {
        "id": "O5K01pqRuDh-"
      },
      "source": [
        ""
      ],
      "execution_count": null,
      "outputs": []
    },
    {
      "cell_type": "code",
      "metadata": {
        "colab": {
          "base_uri": "https://localhost:8080/",
          "height": 401
        },
        "id": "oQvaOaHKty5f",
        "outputId": "e7d4e9c8-3d80-49a7-8401-55a9bdc7966e"
      },
      "source": [
        "plt.style.use('seaborn')\n",
        "plt.plot(df['Quarter'],df['Net Income US M'],c = 'magenta')\n",
        "plt.xlabel('Year', fontsize = 16)\n",
        "plt.ylabel('Net Income', fontsize = 16)\n",
        "plt.title('Net Income (in USD M) Over the Years', fontsize = 16)"
      ],
      "execution_count": 147,
      "outputs": [
        {
          "output_type": "execute_result",
          "data": {
            "text/plain": [
              "Text(0.5, 1.0, 'Net Income (in USD M) Over the Years')"
            ]
          },
          "metadata": {
            "tags": []
          },
          "execution_count": 147
        },
        {
          "output_type": "display_data",
          "data": {
            "image/png": "[encoded data removed]",
            "text/plain": [
              "<Figure size 576x396 with 1 Axes>"
            ]
          },
          "metadata": {
            "tags": []
          }
        }
      ]
    },
    {
      "cell_type": "code",
      "metadata": {
        "colab": {
          "base_uri": "https://localhost:8080/",
          "height": 401
        },
        "id": "8-s-Szb5vEix",
        "outputId": "36ae946e-8212-44db-8aa5-5482137dc239"
      },
      "source": [
        "plt.style.use('seaborn')\n",
        "plt.plot(df['Quarter'],df['Revenue US M'],c = 'green')\n",
        "plt.xlabel('Year', fontsize = 16)\n",
        "plt.ylabel('Revenue', fontsize = 16)\n",
        "plt.title('Revenue (in USD M) Over the Years', fontsize = 16)"
      ],
      "execution_count": 153,
      "outputs": [
        {
          "output_type": "execute_result",
          "data": {
            "text/plain": [
              "Text(0.5, 1.0, 'Revenue (in USD M) Over the Years')"
            ]
          },
          "metadata": {
            "tags": []
          },
          "execution_count": 153
        },
        {
          "output_type": "display_data",
          "data": {
            "image/png": "[encoded data removed]",
            "text/plain": [
              "<Figure size 576x396 with 1 Axes>"
            ]
          },
          "metadata": {
            "tags": []
          }
        }
      ]
    },
    {
      "cell_type": "code",
      "metadata": {
        "id": "2MWTImitvtGn"
      },
      "source": [
        "Year = df['Quarter'].values\n"
      ],
      "execution_count": 155,
      "outputs": []
    },
    {
      "cell_type": "code",
      "metadata": {
        "id": "D8W6AI4wwTZT"
      },
      "source": [
        "Income = df['Net Income US M'].values"
      ],
      "execution_count": 159,
      "outputs": []
    },
    {
      "cell_type": "code",
      "metadata": {
        "id": "E5BjQ11SwfxR"
      },
      "source": [
        "Revenue = df['Revenue US M'].values"
      ],
      "execution_count": 160,
      "outputs": []
    },
    {
      "cell_type": "code",
      "metadata": {
        "colab": {
          "base_uri": "https://localhost:8080/",
          "height": 383
        },
        "id": "nlD8dqI5wLg-",
        "outputId": "c132d49e-cd62-438c-8291-7e58289c0a31"
      },
      "source": [
        "plt.plot(Year, Income, c = 'r', label = ' Net Income')\n",
        "plt.scatter(Year, Revenue, c= 'k', label = 'Revenue')\n",
        "plt.legend()\n",
        "plt.xlabel('Year', fontsize = 16)"
      ],
      "execution_count": 168,
      "outputs": [
        {
          "output_type": "execute_result",
          "data": {
            "text/plain": [
              "Text(0.5, 0, 'Year')"
            ]
          },
          "metadata": {
            "tags": []
          },
          "execution_count": 168
        },
        {
          "output_type": "display_data",
          "data": {
            "image/png": "[encoded data removed]",
            "text/plain": [
              "<Figure size 576x396 with 1 Axes>"
            ]
          },
          "metadata": {
            "tags": []
          }
        }
      ]
    }
  ]
}